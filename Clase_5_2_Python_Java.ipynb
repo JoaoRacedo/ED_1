{
  "nbformat": 4,
  "nbformat_minor": 0,
  "metadata": {
    "colab": {
      "name": "Clase_5_2_Python_Java.ipynb",
      "provenance": [],
      "collapsed_sections": [],
      "authorship_tag": "ABX9TyP2QOekTrs6Xa08mXBxxYCQ",
      "include_colab_link": true
    },
    "kernelspec": {
      "name": "python3",
      "display_name": "Python 3"
    },
    "language_info": {
      "name": "python"
    }
  },
  "cells": [
    {
      "cell_type": "markdown",
      "metadata": {
        "id": "view-in-github",
        "colab_type": "text"
      },
      "source": [
        "<a href=\"https://colab.research.google.com/github/JoaoRacedo/ED_1/blob/main/Clase_5_2_Python_Java.ipynb\" target=\"_parent\"><img src=\"https://colab.research.google.com/assets/colab-badge.svg\" alt=\"Open In Colab\"/></a>"
      ]
    },
    {
      "cell_type": "code",
      "execution_count": 30,
      "metadata": {
        "colab": {
          "base_uri": "https://localhost:8080/"
        },
        "id": "hlwUO-HJAara",
        "outputId": "2e72d05f-cb30-446a-e603-969f875de69b"
      },
      "outputs": [
        {
          "output_type": "stream",
          "name": "stdout",
          "text": [
            "Overwriting LinkedList.java\n"
          ]
        }
      ],
      "source": [
        "%%writefile LinkedList.java\n",
        "class LinkedList{\n",
        "        static class Node{\n",
        "        //Attributes\n",
        "        int data;\n",
        "        Node next;\n",
        "        //Constructor\n",
        "        public Node(int data){\n",
        "            this.data = data;\n",
        "            this.next = null;\n",
        "        }\n",
        "    }\n",
        "    Node head = null;\n",
        "\n",
        "    public void Recorrer(){\n",
        "        Node p = head;\n",
        "        while(p != null){\n",
        "            System.out.print(p.data + \"->\");\n",
        "            p = p.next;\n",
        "        }\n",
        "         System.out.println(\"null\");\n",
        "    }\n",
        "\n",
        "    public static void main(String[] args){\n",
        "        LinkedList lista = new LinkedList();\n",
        "        lista.head = new Node(10);\n",
        "        Node Q = new Node(1);\n",
        "        Node Z = new Node(2);\n",
        "        System.out.println(lista.head.next);\n",
        "        System.out.println(Q.next);\n",
        "        System.out.println(Z.next);\n",
        "        System.out.println(\"-----------------\");\n",
        "        lista.Recorrer();\n",
        "        lista.head.next = Q;\n",
        "        Q.next = Z;\n",
        "        System.out.println(\"-----------------\");\n",
        "        lista.Recorrer();\n",
        "    }\n",
        "\n",
        "}"
      ]
    },
    {
      "cell_type": "code",
      "source": [
        "!java LinkedList.java"
      ],
      "metadata": {
        "colab": {
          "base_uri": "https://localhost:8080/"
        },
        "id": "mvkiLbVLBIfO",
        "outputId": "6e9e2219-e8c3-4eee-fce4-c67c7be3a160"
      },
      "execution_count": 31,
      "outputs": [
        {
          "output_type": "stream",
          "name": "stdout",
          "text": [
            "null\n",
            "null\n",
            "null\n",
            "-----------------\n",
            "10->null\n",
            "-----------------\n",
            "10->1->2->null\n"
          ]
        }
      ]
    },
    {
      "cell_type": "code",
      "source": [
        "class Node:\n",
        "   def __init__(self, data=None):\n",
        "      self.data = data\n",
        "      self.next = None"
      ],
      "metadata": {
        "id": "HpfBlx5QBLYW"
      },
      "execution_count": null,
      "outputs": []
    },
    {
      "cell_type": "code",
      "source": [
        "def Recorrer(ptr):\n",
        "  P = ptr\n",
        "  while(P != None):\n",
        "    print(P.data, end = \"->\")\n",
        "    P = P.next\n",
        "  print(\"None\")"
      ],
      "metadata": {
        "id": "RtTnhfHnG2dk"
      },
      "execution_count": null,
      "outputs": []
    },
    {
      "cell_type": "code",
      "source": [
        "PTR = Node(10)\n",
        "Q = Node(2)\n",
        "Z = Node(1)\n",
        "print(PTR.next)\n",
        "print(Q.next)\n",
        "print(Z.next)\n",
        "print(\"-----------------------\")\n",
        "Recorrer(PTR)\n",
        "PTR.next = Q\n",
        "Q.next = Z\n",
        "print(PTR.next)\n",
        "print(Q.next)\n",
        "print(Z.next)\n",
        "print(\"-----------------------\")\n",
        "Recorrer(PTR)"
      ],
      "metadata": {
        "colab": {
          "base_uri": "https://localhost:8080/"
        },
        "id": "H5zQziETFBYh",
        "outputId": "974b7e55-d39b-43ff-8def-ca1f257258a9"
      },
      "execution_count": null,
      "outputs": [
        {
          "output_type": "stream",
          "name": "stdout",
          "text": [
            "None\n",
            "None\n",
            "None\n",
            "-----------------------\n",
            "10->None\n",
            "<__main__.Node object at 0x7f4a1c715810>\n",
            "<__main__.Node object at 0x7f4a1c7150d0>\n",
            "None\n",
            "-----------------------\n",
            "10->2->1->None\n"
          ]
        }
      ]
    },
    {
      "cell_type": "code",
      "source": [
        ""
      ],
      "metadata": {
        "colab": {
          "base_uri": "https://localhost:8080/"
        },
        "id": "_Ktca-aCFMBh",
        "outputId": "03a712ad-6748-4c31-8a29-53cd01b11b0d"
      },
      "execution_count": null,
      "outputs": [
        {
          "output_type": "stream",
          "name": "stdout",
          "text": [
            "<__main__.Node object at 0x7f4a1c743890>\n"
          ]
        }
      ]
    },
    {
      "cell_type": "code",
      "source": [
        ""
      ],
      "metadata": {
        "id": "BX0izcPYFOS7"
      },
      "execution_count": null,
      "outputs": []
    }
  ]
}