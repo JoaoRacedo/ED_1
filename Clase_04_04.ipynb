{
  "nbformat": 4,
  "nbformat_minor": 0,
  "metadata": {
    "colab": {
      "name": "Clase_04_04.ipynb",
      "provenance": [],
      "collapsed_sections": [],
      "authorship_tag": "ABX9TyNvSnP09ui4taQupQ9XZNa1"
    },
    "kernelspec": {
      "name": "python3",
      "display_name": "Python 3"
    },
    "language_info": {
      "name": "python"
    }
  },
  "cells": [
    {
      "cell_type": "code",
      "execution_count": 16,
      "metadata": {
        "id": "vpm3KLBcOpc6"
      },
      "outputs": [],
      "source": [
        "class Node:\n",
        "  def __init__(self, data = None):\n",
        "    self.data = data\n",
        "    self.next = self\n",
        "\n",
        "  def __repr__ (self):\n",
        "    return str(self.data)"
      ]
    },
    {
      "cell_type": "code",
      "source": [
        "class CLL:\n",
        "  def __init__(self):\n",
        "    self.head = None\n",
        "    self.tail = None\n",
        "    self.count = 0 \n",
        "\n",
        "  def __repr__(self):\n",
        "    string = \"\"\n",
        "\n",
        "    if (self.head == None):\n",
        "      string += \"CLL empty\"\n",
        "      return string\n",
        "    \n",
        "    string += f\"CLL list: \\n{self.head.data}\" # PTR\n",
        "    P = self.head.next # Segundo nodo despues de PTR\n",
        "    while(P != self.head):\n",
        "      string += f\" -> {P.data}\"\n",
        "      P = P.next\n",
        "    return string\n",
        "\n",
        "  def insert(self, value):\n",
        "\n",
        "    if(self.head == None):\n",
        "      self.head = Node(value)\n",
        "      self.tail = self.head\n",
        "    else:\n",
        "      self.tail.next = Node(value)\n",
        "      self.tail = self.tail.next\n",
        "      self.tail.next = self.head"
      ],
      "metadata": {
        "id": "Yyf906JgPLRa"
      },
      "execution_count": 31,
      "outputs": []
    },
    {
      "cell_type": "code",
      "source": [
        "lista = CLL()\n",
        "print(lista)"
      ],
      "metadata": {
        "colab": {
          "base_uri": "https://localhost:8080/"
        },
        "id": "LVewy-t1Y2Ya",
        "outputId": "32b9522d-82de-45aa-d6b6-8b7286db0849"
      },
      "execution_count": 38,
      "outputs": [
        {
          "output_type": "stream",
          "name": "stdout",
          "text": [
            "CLL empty\n"
          ]
        }
      ]
    },
    {
      "cell_type": "code",
      "source": [
        "lista.insert(1)\n",
        "lista.insert(2)\n",
        "lista.insert(3)\n",
        "lista.insert(4)\n",
        "lista.insert(5)"
      ],
      "metadata": {
        "id": "3Iu6n_1VaFOw"
      },
      "execution_count": 39,
      "outputs": []
    },
    {
      "cell_type": "code",
      "source": [
        "print(lista)"
      ],
      "metadata": {
        "colab": {
          "base_uri": "https://localhost:8080/"
        },
        "id": "eKUlI3JHaRfY",
        "outputId": "61798291-546f-4c29-f624-72078f569cc2"
      },
      "execution_count": 40,
      "outputs": [
        {
          "output_type": "stream",
          "name": "stdout",
          "text": [
            "CLL list: \n",
            "1 -> 2 -> 3 -> 4 -> 5\n"
          ]
        }
      ]
    }
  ]
}