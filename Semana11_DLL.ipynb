{
  "nbformat": 4,
  "nbformat_minor": 0,
  "metadata": {
    "colab": {
      "name": "Semana11_DLL.ipynb",
      "provenance": [],
      "collapsed_sections": [],
      "authorship_tag": "ABX9TyMwEkvl12/DbffZWWYad79Y",
      "include_colab_link": true
    },
    "kernelspec": {
      "name": "python3",
      "display_name": "Python 3"
    },
    "language_info": {
      "name": "python"
    }
  },
  "cells": [
    {
      "cell_type": "markdown",
      "metadata": {
        "id": "view-in-github",
        "colab_type": "text"
      },
      "source": [
        "<a href=\"https://colab.research.google.com/github/JoaoRacedo/ED_1/blob/main/Semana11_DLL.ipynb\" target=\"_parent\"><img src=\"https://colab.research.google.com/assets/colab-badge.svg\" alt=\"Open In Colab\"/></a>"
      ]
    },
    {
      "cell_type": "code",
      "source": [
        "%%%%writefile DLL.java\n",
        "class DLL{\n",
        "  class Node{\n",
        "          int data;\n",
        "          Node next;\n",
        "          Node prev;\n",
        "          public Node(int d){\n",
        "              this.data = d;\n",
        "              this.next = null;\n",
        "              this.prev = null;\n",
        "\n",
        "          }\n",
        "      }\n",
        "\n",
        "    //Represent the head and tail of the singly linked list\n",
        "    Node head = null;\n",
        "    Node tail = null;\n",
        "\n",
        "    //addNode() will add a new node to the singly linked list\n",
        "    public void addNode(int data, boolean sw){\n",
        "        Node P = new Node(data);\n",
        "        if (sw == true){\n",
        "          if(head == null){\n",
        "              head = P;\n",
        "              tail = P;\n",
        "          }else{\n",
        "              tail.next = P;\n",
        "              P.prev = tail;\n",
        "              tail = P;\n",
        "          }\n",
        "        }else{\n",
        "             if(head == null){\n",
        "              head = P;\n",
        "              tail = P;\n",
        "              }else{\n",
        "                  head.prev = P;\n",
        "                  P.next = head;\n",
        "                  head = P;\n",
        "              }\n",
        "\n",
        "        }\n",
        "    }\n",
        "    // display() will display all the nodes in the singly linked list\n",
        "    public void display(){\n",
        "        Node current = head;\n",
        "\n",
        "        if(current == null){\n",
        "            System.out.println(\"The list is empty\");\n",
        "            return;\n",
        "        }\n",
        "        System.out.println(\"The nodes of the singly linked list are: \");\n",
        "        System.out.print(\"null <- \");\n",
        "        while(current != null){\n",
        "            if (current.next != null){\n",
        "              System.out.print(current.data +\" <-> \");\n",
        "            }else{\n",
        "              System.out.print(current.data +\" -> \");\n",
        "            }\n",
        "            current = current.next;\n",
        "        }\n",
        "        if(current == null)\n",
        "            System.out.print(\"null\\n\");\n",
        "    }\n",
        "\n",
        "    public static void main(String[] args) throws Exception {\n",
        "        DLL sList = new DLL();\n",
        "        sList.addNode(1,true);\n",
        "        sList.addNode(2,false);\n",
        "        sList.addNode(3,false);\n",
        "        sList.addNode(4,true);\n",
        "        sList.display();\n",
        "    }\n",
        "}"
      ],
      "metadata": {
        "colab": {
          "base_uri": "https://localhost:8080/"
        },
        "id": "Vb9NLrwL82l0",
        "outputId": "ae92dcff-decb-4b1b-e286-cb36ba3aaa31"
      },
      "execution_count": null,
      "outputs": [
        {
          "output_type": "stream",
          "name": "stdout",
          "text": [
            "Overwriting DLL.java\n"
          ]
        }
      ]
    },
    {
      "cell_type": "code",
      "source": [
        "\n",
        "!java DLL.java"
      ],
      "metadata": {
        "colab": {
          "base_uri": "https://localhost:8080/"
        },
        "id": "hbNZ6VXw7d4T",
        "outputId": "9e13ed00-dcb6-4f6e-bf70-8d8a9081cae5"
      },
      "execution_count": null,
      "outputs": [
        {
          "output_type": "stream",
          "name": "stdout",
          "text": [
            "The nodes of the singly linked list are: \n",
            "null <- 3 <-> 2 <-> 1 <-> 4 -> null\n"
          ]
        }
      ]
    },
    {
      "cell_type": "code",
      "source": [
        ""
      ],
      "metadata": {
        "id": "TCrAUUHx7f1N"
      },
      "execution_count": null,
      "outputs": []
    }
  ]
}