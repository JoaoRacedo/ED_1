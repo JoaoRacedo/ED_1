{
  "nbformat": 4,
  "nbformat_minor": 0,
  "metadata": {
    "colab": {
      "name": "Multilevel_LinkedList.ipynb",
      "provenance": [],
      "authorship_tag": "ABX9TyMVAc16lg2bHbC5aDeEUQha",
      "include_colab_link": true
    },
    "kernelspec": {
      "name": "python3",
      "display_name": "Python 3"
    },
    "language_info": {
      "name": "python"
    }
  },
  "cells": [
    {
      "cell_type": "markdown",
      "metadata": {
        "id": "view-in-github",
        "colab_type": "text"
      },
      "source": [
        "<a href=\"https://colab.research.google.com/github/JoaoRacedo/ED_1/blob/main/Multilevel_LinkedList.ipynb\" target=\"_parent\"><img src=\"https://colab.research.google.com/assets/colab-badge.svg\" alt=\"Open In Colab\"/></a>"
      ]
    },
    {
      "cell_type": "code",
      "execution_count": 4,
      "metadata": {
        "colab": {
          "base_uri": "https://localhost:8080/"
        },
        "id": "UxuchKBWAp8M",
        "outputId": "5f2848fe-8e13-40ae-b0f4-60c17b6fc749"
      },
      "outputs": [
        {
          "output_type": "stream",
          "name": "stdout",
          "text": [
            "Writing MLL.java\n"
          ]
        }
      ],
      "source": [
        "%%%%writefile MLL.java\n",
        "import java.io.*;\n",
        "\n",
        "class MLL {\n",
        "public static class Node {\n",
        "\tint data;\n",
        "\t\tNode next;\n",
        "\t\tNode child;\n",
        "\t};\n",
        "\n",
        "\t// A function to create a linked list\n",
        "\t// with n(size) nodes returns head pointer\n",
        "\tpublic static Node createList(int arr[], int n)\n",
        "\t{\n",
        "\t\tNode head = null;\n",
        "\t\tNode tmp = null;\n",
        "\n",
        "\t\t// Traversing the passed array\n",
        "\t\tfor (int i = 0; i < n; i++)\n",
        "\t\t{\n",
        "\n",
        "\t\t\t// Creating a node if the list\n",
        "\t\t\t// is empty\n",
        "\t\t\tif (head == null) {\n",
        "\t\t\t\ttmp = head = new Node();\n",
        "\t\t\t}\n",
        "\t\t\telse {\n",
        "\t\t\t\ttmp.next = new Node();\n",
        "\t\t\t\ttmp = tmp.next;\n",
        "\t\t\t}\n",
        "\n",
        "\t\t\t// Created a node with data and\n",
        "\t\t\t// setting child and next pointer\n",
        "\t\t\t// as NULL.\n",
        "\t\t\ttmp.data = arr[i];\n",
        "\t\t\ttmp.next = tmp.child = null;\n",
        "\t\t}\n",
        "\t\treturn head;\n",
        "\t}\n",
        "\n",
        "\t// To print the linked list\n",
        "\tpublic static void printMultiLevelList(Node head)\n",
        "\t{\n",
        "\n",
        "\t\t// While head is not null\n",
        "\t\twhile (head != null) {\n",
        "\t\t\tif (head.child != null) {\n",
        "\t\t\t\tprintMultiLevelList(head.child);\n",
        "\t\t\t}\n",
        "\t\t\tSystem.out.print(head.data + \" \");\n",
        "\t\t\thead = head.next;\n",
        "\t\t}\n",
        "\t}\n",
        "\n",
        "\t// Driver code\n",
        "\tpublic static void main(String[] args)\n",
        "\t{\n",
        "\t\tint arr1[] = { 1, 2, 3 };\n",
        "\t\tint arr2[] = { 5, 6 };\n",
        "\t\tint arr3[] = { 4 };\n",
        "\t\tint arr4[] = { 7, 8, 9 };\n",
        "\n",
        "\t\t// creating Four linked lists\n",
        "\t\t// Passing array and size of array\n",
        "\t\t// as parameters\n",
        "\t\tNode head1 = createList(arr1, 3);\n",
        "\t\tNode head2 = createList(arr2, 2);\n",
        "\t\tNode head3 = createList(arr3, 1);\n",
        "\t\tNode head4 = createList(arr4, 3);\n",
        "\n",
        "\t\t// Initializing children and next pointers\n",
        "\t\t// as shown in given diagram\n",
        "\t\thead1.child = head2;\n",
        "\t\thead1.next.next.child = head3;\n",
        "\t\thead2.next.child = head4;\n",
        "\n",
        "\t\t// Creating a null pointer.\n",
        "\t\tNode head = null;\n",
        "\t\thead = head1;\n",
        "\n",
        "\t\t// Function Call to print\n",
        "\t\tprintMultiLevelList(head);\n",
        "\t}\n",
        "}"
      ]
    },
    {
      "cell_type": "code",
      "source": [
        "!java MLL.java"
      ],
      "metadata": {
        "colab": {
          "base_uri": "https://localhost:8080/"
        },
        "id": "DDrPO1kGAuKV",
        "outputId": "5cdf3c79-0f6a-401f-ced6-2223e56ea90f"
      },
      "execution_count": 5,
      "outputs": [
        {
          "output_type": "stream",
          "name": "stdout",
          "text": [
            "5 7 8 9 6 1 2 4 3 "
          ]
        }
      ]
    },
    {
      "cell_type": "markdown",
      "source": [
        "Una empresa de servicios guarda una lista de tareas que debe realizar cada empleado mediante una multilista que esta estructurada de la siguiente forma:\n",
        "* ListaEmpleados:\n",
        "  - Codigo empleado\n",
        "  - Cantidad tareas\n",
        "  - Next1 (Enlace a siguiente empleado)\n",
        "  - Next2 (Enlace a tareas de empleado)\n",
        "* ColaTareas\n",
        "  - Dpto solicitante\n",
        "  - Descrip\n",
        "\n",
        "Tambien cuenta con una lista simple donde estan las tareas pendientes por asignar\n",
        "\n",
        "Su trabajo es asignar las tareas pendientes al empleado que menos tareas tenga actualmente. (Puede hacerlo de una en una o varias al mismo tiempo)"
      ],
      "metadata": {
        "id": "dMcB6B5kH7xW"
      }
    }
  ]
}