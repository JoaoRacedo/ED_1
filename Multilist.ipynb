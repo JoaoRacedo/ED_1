{
  "nbformat": 4,
  "nbformat_minor": 0,
  "metadata": {
    "colab": {
      "name": "Multilist.ipynb",
      "provenance": [],
      "collapsed_sections": [],
      "authorship_tag": "ABX9TyOjDadNHsXWGOF50stX18bl",
      "include_colab_link": true
    },
    "kernelspec": {
      "name": "python3",
      "display_name": "Python 3"
    },
    "language_info": {
      "name": "python"
    }
  },
  "cells": [
    {
      "cell_type": "markdown",
      "metadata": {
        "id": "view-in-github",
        "colab_type": "text"
      },
      "source": [
        "<a href=\"https://colab.research.google.com/github/JoaoRacedo/ED_1/blob/main/Multilist.ipynb\" target=\"_parent\"><img src=\"https://colab.research.google.com/assets/colab-badge.svg\" alt=\"Open In Colab\"/></a>"
      ]
    },
    {
      "cell_type": "code",
      "execution_count": 4,
      "metadata": {
        "colab": {
          "base_uri": "https://localhost:8080/"
        },
        "id": "rcOs3S6wAv9f",
        "outputId": "14372688-d78b-4d15-8223-d0326ee0b4f2"
      },
      "outputs": [
        {
          "output_type": "stream",
          "name": "stdout",
          "text": [
            "Overwriting Multilist.java\n"
          ]
        }
      ],
      "source": [
        "%%%%writefile Multilist.java\n",
        "public class Multilist {\n",
        "\n",
        "    class Node_Caja{\n",
        "        int Dinero;\n",
        "        int ClientesCola;\n",
        "        Node_Caja next_caja;\n",
        "        Node_Cliente primer_cliente;\n",
        "\n",
        "        public Node_Caja(int monto_inicial) {\n",
        "            this.Dinero = monto_inicial;\n",
        "            this.ClientesCola = 0;\n",
        "            this.next_caja = null;\n",
        "            this.primer_cliente = null;\n",
        "        }\n",
        "    }\n",
        "    class Node_Cliente{\n",
        "\n",
        "        int Codigo;\n",
        "        int Pagar;\n",
        "        Boolean Discapacidad;\n",
        "        Node_Cliente next_cliente;\n",
        "\n",
        "        public Node_Cliente(int c, int p, boolean d, int caja) {\n",
        "            this.Codigo = c;\n",
        "            this.Pagar = p;\n",
        "            this.Discapacidad = d;\n",
        "            this.next_cliente = null;\n",
        "        }\n",
        "    }\n",
        "\n",
        "    public static Node_Caja head = null;\n",
        "\n",
        "    public void addNode_caja(int money) {\n",
        "\n",
        "        Node_Caja P = new Node_Caja(money);\n",
        "        if (head == null) {\n",
        "            head = P;\n",
        "        } else {\n",
        "            Node_Caja C = head;\n",
        "            while (C.next_caja != null) {\n",
        "                C = C.next_caja;\n",
        "            }\n",
        "            C.next_caja = P;\n",
        "        }\n",
        "    }\n",
        "\n",
        "\n",
        "    public void addNode_cliente(int c, int p, boolean d, int caja) {\n",
        "        Node_Caja C = head;\n",
        "        int i = 1;\n",
        "        while(i != caja){\n",
        "            C = C.next_caja;\n",
        "            i++;\n",
        "        }\n",
        "        Node_Cliente P = new Node_Cliente(c, p, d, caja);\n",
        "        if (C.primer_cliente == null) {\n",
        "            C.primer_cliente = P;\n",
        "        } else {\n",
        "            Node_Cliente cliente = C.primer_cliente;\n",
        "            while (cliente.next_cliente != null) {\n",
        "                cliente = cliente.next_cliente;\n",
        "            }\n",
        "            cliente.next_cliente = P;\n",
        "        }\n",
        "    }\n",
        "\n",
        "    public void display() {\n",
        "\n",
        "         Node_Caja current = head;\n",
        "\n",
        "        if (current == null) {\n",
        "            System.out.println(\"-----------------------------------------------------\");\n",
        "            System.out.println(\"No hay cajas disponibles en el momento, vuelva pronto\");\n",
        "            System.out.println(\"-----------------------------------------------------\");\n",
        "            return;\n",
        "        }\n",
        "        int i = 1;\n",
        "        while(current != null){\n",
        "            System.out.println(\"Caja #\" +i +\" tiene \"+ current.Dinero);\n",
        "            if(current.primer_cliente != null){\n",
        "                Node_Cliente current2 = current.primer_cliente;\n",
        "                while (current2 != null){\n",
        "                    System.out.println(\"Cliente \" + current2.Codigo);\n",
        "                    current2 = current2.next_cliente;\n",
        "                }\n",
        "            }else{\n",
        "                System.out.println(\"Caja sin clientes\");\n",
        "\n",
        "            }\n",
        "            current = current.next_caja;\n",
        "            i++;\n",
        "        }\n",
        "    }\n",
        "\n",
        "    public static void main(String[] args) {\n",
        "\n",
        "        Multilist Supermercado = new Multilist();\n",
        "        Supermercado.addNode_caja(100);\n",
        "        Supermercado.addNode_caja(100);\n",
        "        Supermercado.addNode_caja(100);\n",
        "        Supermercado.addNode_caja(100);\n",
        "        Supermercado.addNode_caja(100);\n",
        "        Supermercado.addNode_cliente(1, 23, false, 1);\n",
        "        Supermercado.addNode_cliente(2, 23, false, 2);\n",
        "        Supermercado.addNode_cliente(3, 23, false, 3);\n",
        "        Supermercado.addNode_cliente(4, 23, false, 2);\n",
        "        Supermercado.addNode_cliente(5, 23, false, 2);\n",
        "        Supermercado.addNode_cliente(6, 23, false, 4);\n",
        "        Supermercado.addNode_cliente(7, 23, false, 1);\n",
        "        Supermercado.addNode_cliente(8, 23, false, 1);\n",
        "        Supermercado.display();\n",
        "    }\n",
        "}\n"
      ]
    },
    {
      "cell_type": "code",
      "source": [
        "!java Multilist.java"
      ],
      "metadata": {
        "colab": {
          "base_uri": "https://localhost:8080/"
        },
        "id": "G9yI3tyCKYdC",
        "outputId": "b80f7399-21bf-4ab2-ec7f-19d752dd494d"
      },
      "execution_count": 5,
      "outputs": [
        {
          "output_type": "stream",
          "name": "stdout",
          "text": [
            "Caja #1 tiene 100\n",
            "Cliente 1\n",
            "Cliente 7\n",
            "Cliente 8\n",
            "Caja #2 tiene 100\n",
            "Cliente 2\n",
            "Cliente 4\n",
            "Cliente 5\n",
            "Caja #3 tiene 100\n",
            "Cliente 3\n",
            "Caja #4 tiene 100\n",
            "Cliente 6\n",
            "Caja #5 tiene 100\n",
            "Caja sin clientes\n"
          ]
        }
      ]
    },
    {
      "cell_type": "code",
      "source": [
        ""
      ],
      "metadata": {
        "id": "XUwsGjR9Kbmb"
      },
      "execution_count": null,
      "outputs": []
    }
  ]
}